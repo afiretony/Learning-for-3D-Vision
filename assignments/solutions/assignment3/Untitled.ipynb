{
 "cells": [
  {
   "cell_type": "code",
   "execution_count": 114,
   "id": "2b3648ed-06df-4251-815c-748399c2b11f",
   "metadata": {},
   "outputs": [
    {
     "name": "stdout",
     "output_type": "stream",
     "text": [
      "Rendering image 0\n",
      "Rendering image 1\n",
      "Rendering image 2\n",
      "Rendering image 3\n",
      "Rendering image 4\n",
      "Rendering image 5\n",
      "Rendering image 6\n",
      "Rendering image 7\n",
      "Rendering image 8\n",
      "Rendering image 9\n",
      "Rendering image 10\n",
      "Rendering image 11\n",
      "Rendering image 12\n",
      "Rendering image 13\n",
      "Rendering image 14\n",
      "Rendering image 15\n",
      "Rendering image 16\n",
      "Rendering image 17\n",
      "Rendering image 18\n",
      "Rendering image 19\n"
     ]
    }
   ],
   "source": [
    "!python main.py --config-name=box"
   ]
  },
  {
   "cell_type": "code",
   "execution_count": 54,
   "id": "d32b9e8f-c9a3-4596-b239-a5fe0abf7e4c",
   "metadata": {},
   "outputs": [
    {
     "name": "stdout",
     "output_type": "stream",
     "text": [
      "Rendering image 0\n",
      "---\n",
      "+++\n",
      "createing ray visualizaiton\n",
      "torch.Size([32768, 64, 3])\n",
      "done\n",
      "Error executing job with overrides: []\n",
      "Traceback (most recent call last):\n",
      "  File \"/home/chenhao2/16889/assignments/solutions/assignment3/main.py\", line 396, in main\n",
      "    train(cfg)\n",
      "  File \"/home/chenhao2/16889/assignments/solutions/assignment3/main.py\", line 204, in train\n",
      "    render_images(\n",
      "  File \"/home/chenhao2/16889/assignments/solutions/assignment3/main.py\", line 139, in render_images\n",
      "    out = model(ray_bundle)\n",
      "  File \"/home/chenhao2/miniconda3/envs/l3d/lib/python3.9/site-packages/torch/nn/modules/module.py\", line 727, in _call_impl\n",
      "    result = self.forward(*input, **kwargs)\n",
      "  File \"/home/chenhao2/16889/assignments/solutions/assignment3/main.py\", line 77, in forward\n",
      "    return self.renderer(\n",
      "  File \"/home/chenhao2/miniconda3/envs/l3d/lib/python3.9/site-packages/torch/nn/modules/module.py\", line 727, in _call_impl\n",
      "    result = self.forward(*input, **kwargs)\n",
      "  File \"/home/chenhao2/16889/assignments/solutions/assignment3/renderer.py\", line 75, in forward\n",
      "    weights = self._compute_weights(\n",
      "  File \"/home/chenhao2/16889/assignments/solutions/assignment3/renderer.py\", line 29, in _compute_weights\n",
      "    return weights\n",
      "NameError: name 'weights' is not defined\n",
      "\n",
      "Set the environment variable HYDRA_FULL_ERROR=1 for a complete stack trace.\n"
     ]
    }
   ],
   "source": [
    "!python main.py --config-name=train_box"
   ]
  },
  {
   "cell_type": "code",
   "execution_count": 107,
   "id": "65204004-0b53-43e2-9200-0f50b59f82b4",
   "metadata": {},
   "outputs": [
    {
     "name": "stderr",
     "output_type": "stream",
     "text": [
      "/home/chenhao2/miniconda3/envs/l3d/lib/python3.9/site-packages/tqdm/auto.py:22: TqdmWarning: IProgress not found. Please update jupyter and ipywidgets. See https://ipywidgets.readthedocs.io/en/stable/user_install.html\n",
      "  from .autonotebook import tqdm as notebook_tqdm\n"
     ]
    },
    {
     "ename": "TypeError",
     "evalue": "tensor() takes 1 positional argument but 2 were given",
     "output_type": "error",
     "traceback": [
      "\u001b[0;31m---------------------------------------------------------------------------\u001b[0m",
      "\u001b[0;31mTypeError\u001b[0m                                 Traceback (most recent call last)",
      "Input \u001b[0;32mIn [107]\u001b[0m, in \u001b[0;36m<cell line: 2>\u001b[0;34m()\u001b[0m\n\u001b[1;32m      1\u001b[0m \u001b[38;5;28;01mimport\u001b[39;00m \u001b[38;5;21;01mtorch\u001b[39;00m\n\u001b[0;32m----> 2\u001b[0m x \u001b[38;5;241m=\u001b[39m \u001b[43mtorch\u001b[49m\u001b[38;5;241;43m.\u001b[39;49m\u001b[43mtensor\u001b[49m\u001b[43m(\u001b[49m\u001b[43m[\u001b[49m\u001b[38;5;241;43m1\u001b[39;49m\u001b[43m,\u001b[49m\u001b[43m \u001b[49m\u001b[38;5;241;43m2\u001b[39;49m\u001b[43m,\u001b[49m\u001b[43m \u001b[49m\u001b[38;5;241;43m3\u001b[39;49m\u001b[43m]\u001b[49m\u001b[43m,\u001b[49m\u001b[43m[\u001b[49m\u001b[38;5;241;43m6\u001b[39;49m\u001b[43m,\u001b[49m\u001b[38;5;241;43m4\u001b[39;49m\u001b[43m,\u001b[49m\u001b[38;5;241;43m4\u001b[39;49m\u001b[43m]\u001b[49m\u001b[43m)\u001b[49m\n\u001b[1;32m      3\u001b[0m x\u001b[38;5;241m.\u001b[39mrepeat(\u001b[38;5;241m2\u001b[39m)\n",
      "\u001b[0;31mTypeError\u001b[0m: tensor() takes 1 positional argument but 2 were given"
     ]
    }
   ],
   "source": [
    "import torch\n",
    "x = torch.tensor([1, 2, 3],[6,4,4])\n",
    "x.repeat(2)"
   ]
  },
  {
   "cell_type": "code",
   "execution_count": null,
   "id": "4c5ac549-0cfb-45f8-bb48-6a0e7f9fe572",
   "metadata": {},
   "outputs": [],
   "source": []
  }
 ],
 "metadata": {
  "kernelspec": {
   "display_name": "Python 3 (ipykernel)",
   "language": "python",
   "name": "python3"
  },
  "language_info": {
   "codemirror_mode": {
    "name": "ipython",
    "version": 3
   },
   "file_extension": ".py",
   "mimetype": "text/x-python",
   "name": "python",
   "nbconvert_exporter": "python",
   "pygments_lexer": "ipython3",
   "version": "3.9.10"
  }
 },
 "nbformat": 4,
 "nbformat_minor": 5
}

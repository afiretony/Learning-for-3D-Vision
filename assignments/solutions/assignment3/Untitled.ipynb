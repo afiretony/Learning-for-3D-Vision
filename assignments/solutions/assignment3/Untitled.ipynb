{
 "cells": [
  {
   "cell_type": "code",
   "execution_count": 2,
   "id": "2b3648ed-06df-4251-815c-748399c2b11f",
   "metadata": {},
   "outputs": [
    {
     "name": "stdout",
     "output_type": "stream",
     "text": [
      "Rendering image 0\n",
      "(256, 256, 3)\n",
      "Rendering image 1\n",
      "(256, 256, 3)\n",
      "Rendering image 2\n",
      "(256, 256, 3)\n",
      "Rendering image 3\n",
      "(256, 256, 3)\n",
      "Rendering image 4\n",
      "(256, 256, 3)\n",
      "Rendering image 5\n",
      "(256, 256, 3)\n",
      "Rendering image 6\n",
      "(256, 256, 3)\n",
      "Rendering image 7\n",
      "(256, 256, 3)\n",
      "Rendering image 8\n",
      "(256, 256, 3)\n",
      "Rendering image 9\n",
      "(256, 256, 3)\n",
      "Rendering image 10\n",
      "(256, 256, 3)\n",
      "Rendering image 11\n",
      "(256, 256, 3)\n",
      "Rendering image 12\n",
      "(256, 256, 3)\n",
      "Rendering image 13\n",
      "(256, 256, 3)\n",
      "Rendering image 14\n",
      "(256, 256, 3)\n",
      "Rendering image 15\n",
      "(256, 256, 3)\n",
      "Rendering image 16\n",
      "(256, 256, 3)\n",
      "Rendering image 17\n",
      "(256, 256, 3)\n",
      "Rendering image 18\n",
      "(256, 256, 3)\n",
      "Rendering image 19\n",
      "(256, 256, 3)\n"
     ]
    }
   ],
   "source": [
    "!python main.py --config-name=box"
   ]
  },
  {
   "cell_type": "code",
   "execution_count": 3,
   "id": "d32b9e8f-c9a3-4596-b239-a5fe0abf7e4c",
   "metadata": {},
   "outputs": [
    {
     "name": "stdout",
     "output_type": "stream",
     "text": [
      "Rendering image 0\n",
      "(256, 256, 3)\n",
      "Rendering image 1\n",
      "(256, 256, 3)\n",
      "Rendering image 2\n",
      "(256, 256, 3)\n",
      "Rendering image 3\n",
      "(256, 256, 3)\n",
      "Epoch: 0110, Loss: 0.020749:  12%|█▎         | 115/1000 [00:17<02:11,  6.71it/s]^C\n",
      "Epoch: 0110, Loss: 0.020749:  12%|█▎         | 115/1000 [00:17<02:16,  6.49it/s]\n",
      "Traceback (most recent call last):\n",
      "  File \"/home/chenhao2/tmp/16889/assignments/solutions/assignment3/main.py\", line 427, in <module>\n",
      "    main()\n",
      "  File \"/home/chenhao2/miniconda3/envs/l3d/lib/python3.9/site-packages/hydra/main.py\", line 48, in decorated_main\n",
      "    _run_hydra(\n",
      "  File \"/home/chenhao2/miniconda3/envs/l3d/lib/python3.9/site-packages/hydra/_internal/utils.py\", line 377, in _run_hydra\n",
      "    run_and_report(\n",
      "  File \"/home/chenhao2/miniconda3/envs/l3d/lib/python3.9/site-packages/hydra/_internal/utils.py\", line 211, in run_and_report\n",
      "    return func()\n",
      "  File \"/home/chenhao2/miniconda3/envs/l3d/lib/python3.9/site-packages/hydra/_internal/utils.py\", line 378, in <lambda>\n",
      "    lambda: hydra.run(\n",
      "  File \"/home/chenhao2/miniconda3/envs/l3d/lib/python3.9/site-packages/hydra/_internal/hydra.py\", line 98, in run\n",
      "    ret = run_job(\n",
      "  File \"/home/chenhao2/miniconda3/envs/l3d/lib/python3.9/site-packages/hydra/core/utils.py\", line 160, in run_job\n",
      "    ret.return_value = task_function(task_cfg)\n",
      "  File \"/home/chenhao2/tmp/16889/assignments/solutions/assignment3/main.py\", line 421, in main\n",
      "    train(cfg)\n",
      "  File \"/home/chenhao2/tmp/16889/assignments/solutions/assignment3/main.py\", line 245, in train\n",
      "    out = model(ray_bundle)\n",
      "  File \"/home/chenhao2/miniconda3/envs/l3d/lib/python3.9/site-packages/torch/nn/modules/module.py\", line 727, in _call_impl\n",
      "    result = self.forward(*input, **kwargs)\n",
      "  File \"/home/chenhao2/tmp/16889/assignments/solutions/assignment3/main.py\", line 79, in forward\n",
      "    return self.renderer(\n",
      "  File \"/home/chenhao2/miniconda3/envs/l3d/lib/python3.9/site-packages/torch/nn/modules/module.py\", line 727, in _call_impl\n",
      "    result = self.forward(*input, **kwargs)\n",
      "  File \"/home/chenhao2/tmp/16889/assignments/solutions/assignment3/renderer.py\", line 137, in forward\n",
      "    idx = torch.logical_and(density[:,j,0] > 0.5, depth[:,0] < 0.01 )\n",
      "  File \"/home/chenhao2/miniconda3/envs/l3d/lib/python3.9/site-packages/torch/tensor.py\", line 27, in wrapped\n",
      "    return f(*args, **kwargs)\n",
      "KeyboardInterrupt\n"
     ]
    }
   ],
   "source": [
    "!python main.py --config-name=train_box"
   ]
  },
  {
   "cell_type": "code",
   "execution_count": 107,
   "id": "65204004-0b53-43e2-9200-0f50b59f82b4",
   "metadata": {},
   "outputs": [
    {
     "name": "stderr",
     "output_type": "stream",
     "text": [
      "/home/chenhao2/miniconda3/envs/l3d/lib/python3.9/site-packages/tqdm/auto.py:22: TqdmWarning: IProgress not found. Please update jupyter and ipywidgets. See https://ipywidgets.readthedocs.io/en/stable/user_install.html\n",
      "  from .autonotebook import tqdm as notebook_tqdm\n"
     ]
    },
    {
     "ename": "TypeError",
     "evalue": "tensor() takes 1 positional argument but 2 were given",
     "output_type": "error",
     "traceback": [
      "\u001b[0;31m---------------------------------------------------------------------------\u001b[0m",
      "\u001b[0;31mTypeError\u001b[0m                                 Traceback (most recent call last)",
      "Input \u001b[0;32mIn [107]\u001b[0m, in \u001b[0;36m<cell line: 2>\u001b[0;34m()\u001b[0m\n\u001b[1;32m      1\u001b[0m \u001b[38;5;28;01mimport\u001b[39;00m \u001b[38;5;21;01mtorch\u001b[39;00m\n\u001b[0;32m----> 2\u001b[0m x \u001b[38;5;241m=\u001b[39m \u001b[43mtorch\u001b[49m\u001b[38;5;241;43m.\u001b[39;49m\u001b[43mtensor\u001b[49m\u001b[43m(\u001b[49m\u001b[43m[\u001b[49m\u001b[38;5;241;43m1\u001b[39;49m\u001b[43m,\u001b[49m\u001b[43m \u001b[49m\u001b[38;5;241;43m2\u001b[39;49m\u001b[43m,\u001b[49m\u001b[43m \u001b[49m\u001b[38;5;241;43m3\u001b[39;49m\u001b[43m]\u001b[49m\u001b[43m,\u001b[49m\u001b[43m[\u001b[49m\u001b[38;5;241;43m6\u001b[39;49m\u001b[43m,\u001b[49m\u001b[38;5;241;43m4\u001b[39;49m\u001b[43m,\u001b[49m\u001b[38;5;241;43m4\u001b[39;49m\u001b[43m]\u001b[49m\u001b[43m)\u001b[49m\n\u001b[1;32m      3\u001b[0m x\u001b[38;5;241m.\u001b[39mrepeat(\u001b[38;5;241m2\u001b[39m)\n",
      "\u001b[0;31mTypeError\u001b[0m: tensor() takes 1 positional argument but 2 were given"
     ]
    }
   ],
   "source": [
    "import torch\n",
    "x = torch.tensor([1, 2, 3],[6,4,4])\n",
    "x.repeat(2)"
   ]
  },
  {
   "cell_type": "code",
   "execution_count": 2,
   "id": "4c5ac549-0cfb-45f8-bb48-6a0e7f9fe572",
   "metadata": {},
   "outputs": [
    {
     "name": "stdout",
     "output_type": "stream",
     "text": [
      "/home/chenhao2/tmp/16889/assignments/solutions/assignment3\n"
     ]
    }
   ],
   "source": [
    "!pwd"
   ]
  },
  {
   "cell_type": "code",
   "execution_count": 10,
   "id": "02398c72-b123-45aa-9bbd-be3acc8c6136",
   "metadata": {
    "scrolled": true,
    "tags": []
   },
   "outputs": [
    {
     "name": "stdout",
     "output_type": "stream",
     "text": [
      "Loading dataset lego, image size=[128, 128] ...\n",
      "Rescaling dataset (factor=0.16)\n",
      "/home/chenhao2/miniconda3/envs/l3d/lib/python3.9/site-packages/torch/nn/functional.py:3060: UserWarning: Default upsampling behavior when mode=bilinear is changed to align_corners=False since 0.4.0. Please specify align_corners=True if the old behavior is desired. See the documentation of nn.Upsample for details.\n",
      "  warnings.warn(\"Default upsampling behavior when mode={} is changed \"\n",
      "Epoch: 0000, Loss: 0.058073: : 100it [00:23,  4.23it/s]\n",
      "Epoch: 0001, Loss: 0.100842: : 100it [00:21,  4.73it/s]\n",
      "Epoch: 0002, Loss: 0.051541: : 100it [00:21,  4.75it/s]\n",
      "Epoch: 0003, Loss: 0.020893: : 100it [00:21,  4.74it/s]\n",
      "Epoch: 0004, Loss: 0.009037: : 100it [00:21,  4.75it/s]\n",
      "Epoch: 0005, Loss: 0.012886: : 100it [00:21,  4.63it/s]\n",
      "Epoch: 0006, Loss: 0.011437: : 100it [00:24,  4.04it/s]\n",
      "Epoch: 0007, Loss: 0.013120: : 100it [00:24,  4.09it/s]\n",
      "Epoch: 0008, Loss: 0.008740: : 100it [00:24,  4.12it/s]\n",
      "Epoch: 0009, Loss: 0.007356: : 100it [00:24,  4.10it/s]\n",
      "Epoch: 0010, Loss: 0.011552: : 100it [00:23,  4.17it/s]\n",
      "Rendering image 0\n",
      "Error executing job with overrides: []\n",
      "Traceback (most recent call last):\n",
      "  File \"/home/chenhao2/tmp/16889/assignments/solutions/assignment3/main.py\", line 426, in main\n",
      "    train_nerf(cfg)\n",
      "  File \"/home/chenhao2/tmp/16889/assignments/solutions/assignment3/main.py\", line 410, in train_nerf\n",
      "    test_images = render_images(\n",
      "  File \"/home/chenhao2/tmp/16889/assignments/solutions/assignment3/main.py\", line 145, in render_images\n",
      "    out = model(ray_bundle)\n",
      "  File \"/home/chenhao2/miniconda3/envs/l3d/lib/python3.9/site-packages/torch/nn/modules/module.py\", line 727, in _call_impl\n",
      "    result = self.forward(*input, **kwargs)\n",
      "  File \"/home/chenhao2/tmp/16889/assignments/solutions/assignment3/main.py\", line 79, in forward\n",
      "    return self.renderer(\n",
      "  File \"/home/chenhao2/miniconda3/envs/l3d/lib/python3.9/site-packages/torch/nn/modules/module.py\", line 727, in _call_impl\n",
      "    result = self.forward(*input, **kwargs)\n",
      "  File \"/home/chenhao2/tmp/16889/assignments/solutions/assignment3/renderer.py\", line 72, in forward\n",
      "    implicit_output = implicit_fn(cur_ray_bundle)\n",
      "  File \"/home/chenhao2/miniconda3/envs/l3d/lib/python3.9/site-packages/torch/nn/modules/module.py\", line 727, in _call_impl\n",
      "    result = self.forward(*input, **kwargs)\n",
      "  File \"/home/chenhao2/tmp/16889/assignments/solutions/assignment3/implicit.py\", line 255, in forward\n",
      "    x = self.relu(self.hidden(x))\n",
      "  File \"/home/chenhao2/miniconda3/envs/l3d/lib/python3.9/site-packages/torch/nn/functional.py\", line 1136, in relu\n",
      "    result = torch.relu(input)\n",
      "RuntimeError: CUDA out of memory. Tried to allocate 512.00 MiB (GPU 0; 10.91 GiB total capacity; 1.02 GiB already allocated; 459.06 MiB free; 1.04 GiB reserved in total by PyTorch)\n",
      "\n",
      "Set the environment variable HYDRA_FULL_ERROR=1 for a complete stack trace.\n"
     ]
    }
   ],
   "source": [
    "!python main.py --config-name=nerf_lego"
   ]
  },
  {
   "cell_type": "code",
   "execution_count": null,
   "id": "a609265d-3957-4c2c-9903-f150322b8511",
   "metadata": {},
   "outputs": [],
   "source": []
  }
 ],
 "metadata": {
  "kernelspec": {
   "display_name": "Python 3 (ipykernel)",
   "language": "python",
   "name": "python3"
  },
  "language_info": {
   "codemirror_mode": {
    "name": "ipython",
    "version": 3
   },
   "file_extension": ".py",
   "mimetype": "text/x-python",
   "name": "python",
   "nbconvert_exporter": "python",
   "pygments_lexer": "ipython3",
   "version": "3.9.10"
  }
 },
 "nbformat": 4,
 "nbformat_minor": 5
}

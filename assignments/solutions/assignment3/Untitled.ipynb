{
 "cells": [
  {
   "cell_type": "code",
   "execution_count": 41,
   "id": "2b3648ed-06df-4251-815c-748399c2b11f",
   "metadata": {},
   "outputs": [
    {
     "name": "stdout",
     "output_type": "stream",
     "text": [
      "Rendering image 0\n",
      "---\n",
      "torch.Size([65536, 1, 3])\n",
      "Error executing job with overrides: []\n",
      "Traceback (most recent call last):\n",
      "  File \"/home/chenhao2/16889/assignments/solutions/assignment3/main.py\", line 408, in main\n",
      "    render(cfg)\n",
      "  File \"/home/chenhao2/16889/assignments/solutions/assignment3/main.py\", line 185, in render\n",
      "    all_images = render_images(\n",
      "  File \"/home/chenhao2/16889/assignments/solutions/assignment3/main.py\", line 144, in render_images\n",
      "    ax.scatter(sample_points[i][:][0], sample_points[i][:][1], sample_points[i][:][2])\n",
      "IndexError: index 1 is out of bounds for dimension 0 with size 1\n",
      "\n",
      "Set the environment variable HYDRA_FULL_ERROR=1 for a complete stack trace.\n"
     ]
    }
   ],
   "source": [
    "!python main.py --config-name=box\n"
   ]
  },
  {
   "cell_type": "code",
   "execution_count": 54,
   "id": "d32b9e8f-c9a3-4596-b239-a5fe0abf7e4c",
   "metadata": {},
   "outputs": [
    {
     "name": "stdout",
     "output_type": "stream",
     "text": [
      "Rendering image 0\n",
      "---\n",
      "+++\n",
      "createing ray visualizaiton\n",
      "torch.Size([32768, 64, 3])\n",
      "done\n",
      "Error executing job with overrides: []\n",
      "Traceback (most recent call last):\n",
      "  File \"/home/chenhao2/16889/assignments/solutions/assignment3/main.py\", line 396, in main\n",
      "    train(cfg)\n",
      "  File \"/home/chenhao2/16889/assignments/solutions/assignment3/main.py\", line 204, in train\n",
      "    render_images(\n",
      "  File \"/home/chenhao2/16889/assignments/solutions/assignment3/main.py\", line 139, in render_images\n",
      "    out = model(ray_bundle)\n",
      "  File \"/home/chenhao2/miniconda3/envs/l3d/lib/python3.9/site-packages/torch/nn/modules/module.py\", line 727, in _call_impl\n",
      "    result = self.forward(*input, **kwargs)\n",
      "  File \"/home/chenhao2/16889/assignments/solutions/assignment3/main.py\", line 77, in forward\n",
      "    return self.renderer(\n",
      "  File \"/home/chenhao2/miniconda3/envs/l3d/lib/python3.9/site-packages/torch/nn/modules/module.py\", line 727, in _call_impl\n",
      "    result = self.forward(*input, **kwargs)\n",
      "  File \"/home/chenhao2/16889/assignments/solutions/assignment3/renderer.py\", line 75, in forward\n",
      "    weights = self._compute_weights(\n",
      "  File \"/home/chenhao2/16889/assignments/solutions/assignment3/renderer.py\", line 29, in _compute_weights\n",
      "    return weights\n",
      "NameError: name 'weights' is not defined\n",
      "\n",
      "Set the environment variable HYDRA_FULL_ERROR=1 for a complete stack trace.\n"
     ]
    }
   ],
   "source": [
    "!python main.py --config-name=train_box"
   ]
  },
  {
   "cell_type": "code",
   "execution_count": null,
   "id": "65204004-0b53-43e2-9200-0f50b59f82b4",
   "metadata": {},
   "outputs": [],
   "source": []
  }
 ],
 "metadata": {
  "kernelspec": {
   "display_name": "Python 3 (ipykernel)",
   "language": "python",
   "name": "python3"
  },
  "language_info": {
   "codemirror_mode": {
    "name": "ipython",
    "version": 3
   },
   "file_extension": ".py",
   "mimetype": "text/x-python",
   "name": "python",
   "nbconvert_exporter": "python",
   "pygments_lexer": "ipython3",
   "version": "3.9.10"
  }
 },
 "nbformat": 4,
 "nbformat_minor": 5
}
